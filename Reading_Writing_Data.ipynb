{
  "cells": [
    {
      "cell_type": "markdown",
      "metadata": {
        "id": "view-in-github",
        "colab_type": "text"
      },
      "source": [
        "<a href=\"https://colab.research.google.com/github/Rushikesh-Chavan-777/Scientific-Computing-Fundamentals/blob/main/Reading_Writing_Data.ipynb\" target=\"_parent\"><img src=\"https://colab.research.google.com/assets/colab-badge.svg\" alt=\"Open In Colab\"/></a>"
      ]
    },
    {
      "cell_type": "markdown",
      "id": "a5f3161d-32f5-47ab-9e9b-fb6d5ea08baa",
      "metadata": {
        "id": "a5f3161d-32f5-47ab-9e9b-fb6d5ea08baa"
      },
      "source": [
        "### How to read and write down data file in python?"
      ]
    },
    {
      "cell_type": "code",
      "execution_count": null,
      "id": "63577f08-c0f1-447b-ad39-44758b145126",
      "metadata": {
        "id": "63577f08-c0f1-447b-ad39-44758b145126"
      },
      "outputs": [],
      "source": [
        "import numpy as np\n",
        "import pandas as pd"
      ]
    },
    {
      "cell_type": "code",
      "execution_count": null,
      "id": "e133839d",
      "metadata": {
        "id": "e133839d"
      },
      "outputs": [],
      "source": [
        "# f = open(filename, mode)"
      ]
    },
    {
      "cell_type": "markdown",
      "id": "fdd78235",
      "metadata": {
        "id": "fdd78235"
      },
      "source": [
        "### Example1:"
      ]
    },
    {
      "cell_type": "code",
      "execution_count": null,
      "id": "626b4742",
      "metadata": {
        "id": "626b4742"
      },
      "outputs": [],
      "source": [
        "#Write\n",
        "f = open('test.txt', 'w')\n",
        "for i in range(5):\n",
        "    f.write(f\"This is line {i}\\n\")\n",
        "\n",
        "f.close()"
      ]
    },
    {
      "cell_type": "code",
      "execution_count": null,
      "id": "75e7f26e",
      "metadata": {
        "id": "75e7f26e"
      },
      "outputs": [],
      "source": [
        "#Append\n",
        "f = open('test.txt', 'a')\n",
        "f.write(f\"This is another line\\n\")\n",
        "f.close()"
      ]
    },
    {
      "cell_type": "code",
      "execution_count": null,
      "id": "71642550",
      "metadata": {
        "id": "71642550",
        "outputId": "dfff2e5e-2ab4-4b81-fb4b-2ad6dffd4436"
      },
      "outputs": [
        {
          "name": "stdout",
          "output_type": "stream",
          "text": [
            "This is line 0\n",
            "This is line 1\n",
            "This is line 2\n",
            "This is line 3\n",
            "This is line 4\n",
            "This is another line\n",
            "\n"
          ]
        }
      ],
      "source": [
        "#Read\n",
        "f = open('./test.txt', 'r')\n",
        "content = f.read()\n",
        "f.close()\n",
        "print(content)"
      ]
    },
    {
      "cell_type": "code",
      "execution_count": null,
      "id": "1eb59c60",
      "metadata": {
        "id": "1eb59c60",
        "outputId": "5af50147-6fed-4831-abd4-159f9f7a75bf"
      },
      "outputs": [
        {
          "data": {
            "text/plain": [
              "str"
            ]
          },
          "execution_count": 5,
          "metadata": {},
          "output_type": "execute_result"
        }
      ],
      "source": [
        "type(content)"
      ]
    },
    {
      "cell_type": "markdown",
      "id": "2b9c3c18",
      "metadata": {
        "id": "2b9c3c18"
      },
      "source": [
        "### Types of modes:\n",
        "\n",
        "\"x\" is similar to \"w\". But for \"x\", if the file exists, raise FileExistsError. For \"w\", it will simply create a new file / truncate the existed file.\n",
        "\n",
        "![Read_Write.png](attachment:Read_Write.png)\n"
      ]
    },
    {
      "cell_type": "markdown",
      "id": "3636903b",
      "metadata": {
        "id": "3636903b"
      },
      "source": [
        "![ExWNT-white-bg.png](attachment:ExWNT-white-bg.png)"
      ]
    },
    {
      "cell_type": "code",
      "execution_count": null,
      "id": "2c098b4d",
      "metadata": {
        "id": "2c098b4d",
        "outputId": "7627c6c5-835c-42f6-d93d-55df51e5c487"
      },
      "outputs": [
        {
          "name": "stdout",
          "output_type": "stream",
          "text": [
            "['This is line 0\\n', 'This is line 1\\n', 'This is line 2\\n', 'This is line 3\\n', 'This is line 4\\n', 'This is another line\\n']\n"
          ]
        }
      ],
      "source": [
        "# Read line by line\n",
        "\n",
        "f = open('./test.txt', 'r')\n",
        "contents = f.readlines()\n",
        "f.close()\n",
        "print(contents)"
      ]
    },
    {
      "cell_type": "code",
      "execution_count": null,
      "id": "bcbafadd",
      "metadata": {
        "id": "bcbafadd",
        "outputId": "05445239-a17b-45f8-cff1-6ac724768f56"
      },
      "outputs": [
        {
          "data": {
            "text/plain": [
              "list"
            ]
          },
          "execution_count": 7,
          "metadata": {},
          "output_type": "execute_result"
        }
      ],
      "source": [
        "type(contents)"
      ]
    },
    {
      "cell_type": "markdown",
      "id": "47e1a3bd",
      "metadata": {
        "id": "47e1a3bd"
      },
      "source": [
        "**Exercise:** Write (or save) an numpy array as a txt file and read it"
      ]
    },
    {
      "cell_type": "code",
      "execution_count": null,
      "id": "7f755470",
      "metadata": {
        "id": "7f755470",
        "outputId": "39b0d0b1-0d9c-4697-b2e4-cee2312977e4",
        "colab": {
          "base_uri": "https://localhost:8080/"
        }
      },
      "outputs": [
        {
          "output_type": "stream",
          "name": "stdout",
          "text": [
            "[[1 2 3]\n",
            " [4 5 6]\n",
            " [7 8 9]]\n"
          ]
        }
      ],
      "source": [
        "import numpy as np\n",
        "\n",
        "# Create a sample NumPy array\n",
        "my_array = np.array([[1, 2, 3], [4, 5, 6], [7, 8, 9]])\n",
        "\n",
        "# Save the array to a text file\n",
        "np.savetxt('my_array.txt', my_array, fmt='%d')  # Use fmt='%d' for integers, '%.2f' for floats with 2 decimal places, etc.\n",
        "\n",
        "# Read the array from the text file\n",
        "loaded_array = np.loadtxt('my_array.txt', dtype=int)  # Specify dtype if needed\n",
        "\n",
        "# Print the loaded array\n",
        "print(loaded_array)"
      ]
    },
    {
      "cell_type": "markdown",
      "id": "d4bd1be7-3826-4083-b38f-837c106a083a",
      "metadata": {
        "id": "d4bd1be7-3826-4083-b38f-837c106a083a"
      },
      "source": [
        "####  DataFrame is structured in a tidy data format.\n",
        "\n",
        "Tidy data format means we have multiple columns of data that collected in a Pandas Dataframe.\n",
        "\n",
        "![tidy_data.png](attachment:tidy_data.png)"
      ]
    },
    {
      "cell_type": "markdown",
      "id": "e03f2e96",
      "metadata": {
        "id": "e03f2e96"
      },
      "source": [
        "- Pandas supported [file formats](https://pandas.pydata.org/docs/user_guide/io.html) for tidy data.\n",
        "\n",
        "- Numpy supported [file formats](https://numpy.org/doc/stable/reference/routines.io.html).\n",
        "\n",
        "Some examples of file formats are given below:\n",
        "\n",
        "![file_formats.png](attachment:file_formats.png)"
      ]
    },
    {
      "cell_type": "markdown",
      "id": "d5ab0f55",
      "metadata": {
        "id": "d5ab0f55"
      },
      "source": [
        "### Example: CSV file\n",
        "\n",
        "comma-separated values (CSV) file format, a delimited text file that uses a comma to separate values."
      ]
    },
    {
      "cell_type": "code",
      "execution_count": null,
      "id": "307ee35a",
      "metadata": {
        "id": "307ee35a",
        "outputId": "05c26b3e-260e-4951-e274-613837f7ed9c"
      },
      "outputs": [
        {
          "data": {
            "text/plain": [
              "array([[0.5363556 , 0.28733151, 0.4397988 , 0.61779664, 0.08250741],\n",
              "       [0.84437912, 0.48883304, 0.36310454, 0.28765151, 0.12731408],\n",
              "       [0.90985425, 0.75578419, 0.35376214, 0.65763473, 0.26340448],\n",
              "       [0.02515819, 0.94262891, 0.97195554, 0.78237137, 0.58696097],\n",
              "       [0.77568157, 0.43769521, 0.36042672, 0.83574183, 0.21028676],\n",
              "       [0.2683575 , 0.7082042 , 0.85061129, 0.01735171, 0.74484985],\n",
              "       [0.88613379, 0.95833958, 0.74466398, 0.84982235, 0.97416325],\n",
              "       [0.44927029, 0.51853773, 0.71422556, 0.74814156, 0.53014481],\n",
              "       [0.03643762, 0.04933369, 0.59750776, 0.72697915, 0.59992761],\n",
              "       [0.30891789, 0.1048588 , 0.01033696, 0.6728544 , 0.24177318]])"
            ]
          },
          "execution_count": 23,
          "metadata": {},
          "output_type": "execute_result"
        }
      ],
      "source": [
        "data = np.random.random((10,5))\n",
        "data"
      ]
    },
    {
      "cell_type": "code",
      "execution_count": null,
      "id": "a1f00caf",
      "metadata": {
        "id": "a1f00caf"
      },
      "outputs": [],
      "source": [
        "#Write\n",
        "np.savetxt('test.csv', data, fmt = '%.2f', delimiter=',', header = 'c1, c2, c3, c4, c5')"
      ]
    },
    {
      "cell_type": "code",
      "execution_count": null,
      "id": "67579d46",
      "metadata": {
        "id": "67579d46",
        "outputId": "e6ce7f6f-986c-4c47-aa46-5f023a1fde8f"
      },
      "outputs": [
        {
          "data": {
            "text/plain": [
              "array([[0.54, 0.29, 0.44, 0.62, 0.08],\n",
              "       [0.84, 0.49, 0.36, 0.29, 0.13],\n",
              "       [0.91, 0.76, 0.35, 0.66, 0.26],\n",
              "       [0.03, 0.94, 0.97, 0.78, 0.59],\n",
              "       [0.78, 0.44, 0.36, 0.84, 0.21],\n",
              "       [0.27, 0.71, 0.85, 0.02, 0.74],\n",
              "       [0.89, 0.96, 0.74, 0.85, 0.97],\n",
              "       [0.45, 0.52, 0.71, 0.75, 0.53],\n",
              "       [0.04, 0.05, 0.6 , 0.73, 0.6 ],\n",
              "       [0.31, 0.1 , 0.01, 0.67, 0.24]])"
            ]
          },
          "execution_count": 25,
          "metadata": {},
          "output_type": "execute_result"
        }
      ],
      "source": [
        "#Read\n",
        "my_csv = np.loadtxt('./test.csv', delimiter=',')\n",
        "my_csv\n",
        "# my_csv[:5, :]"
      ]
    },
    {
      "cell_type": "markdown",
      "id": "37bf4595-7cb9-48dd-b0bf-27062ca40a8e",
      "metadata": {
        "id": "37bf4595-7cb9-48dd-b0bf-27062ca40a8e"
      },
      "source": [
        "**Exercise**: Pandas has a very nice interface for writing and reading CSV files"
      ]
    },
    {
      "cell_type": "code",
      "execution_count": null,
      "id": "b998ff13-cb86-4311-82b4-24b07b9cf416",
      "metadata": {
        "id": "b998ff13-cb86-4311-82b4-24b07b9cf416"
      },
      "outputs": [],
      "source": []
    },
    {
      "cell_type": "markdown",
      "id": "5e862cae-df33-4751-b21a-1f37750cdbec",
      "metadata": {
        "id": "5e862cae-df33-4751-b21a-1f37750cdbec"
      },
      "source": [
        "Caution! When working with floating point numbers you should be careful to save the data with enough decimal places so that you won't lose precision."
      ]
    },
    {
      "cell_type": "markdown",
      "id": "39bd4db1",
      "metadata": {
        "id": "39bd4db1"
      },
      "source": [
        "### Example: Pickle file"
      ]
    },
    {
      "cell_type": "code",
      "execution_count": null,
      "id": "1041f457",
      "metadata": {
        "id": "1041f457"
      },
      "outputs": [],
      "source": [
        "import pickle"
      ]
    },
    {
      "cell_type": "markdown",
      "id": "66408732-8e39-464b-8500-9a701e62fe93",
      "metadata": {
        "id": "66408732-8e39-464b-8500-9a701e62fe93"
      },
      "source": [
        "#### Pickle format\n",
        "\n",
        "Type: __Binary__\n",
        "\n",
        "- For cases, we want to store dictionaries, tuples, lists, or any other data type to the disk and use them later.\n",
        "- Pickle can serialize objects so that they can be saved into a file and loaded again later.\n",
        "- __Serialization__ is the process of converting the object into a format that can be stored or transmitted.\n",
        "- Pickle is a powerful serializaion format in python.\n",
        "- However, it is not a format you will want to use for long term storage or data sharing."
      ]
    },
    {
      "cell_type": "code",
      "execution_count": null,
      "id": "29a7b475",
      "metadata": {
        "id": "29a7b475"
      },
      "outputs": [],
      "source": [
        "#Write a pickle file\n",
        "\n",
        "dict_a = {'A':0, 'B':1, 'C':2}\n",
        "pickle.dump(dict_a, open('test.pkl', 'wb'))"
      ]
    },
    {
      "cell_type": "markdown",
      "id": "9c1c9aae-9011-4386-83b6-001586c0a871",
      "metadata": {
        "id": "9c1c9aae-9011-4386-83b6-001586c0a871"
      },
      "source": [
        "Note! 'b' stands for binary mode"
      ]
    },
    {
      "cell_type": "code",
      "execution_count": null,
      "id": "8ac0fac0",
      "metadata": {
        "id": "8ac0fac0",
        "outputId": "70514089-2730-47a1-cfd8-ace875e2300b"
      },
      "outputs": [
        {
          "data": {
            "text/plain": [
              "{'A': 0, 'B': 1, 'C': 2}"
            ]
          },
          "execution_count": 17,
          "metadata": {},
          "output_type": "execute_result"
        }
      ],
      "source": [
        "#Read a pickle file\n",
        "\n",
        "my_dict = pickle.load(open('./test.pkl', 'rb'))\n",
        "my_dict"
      ]
    },
    {
      "cell_type": "markdown",
      "id": "13ebdf73-cf3c-499d-814b-e69d1c5743a4",
      "metadata": {
        "id": "13ebdf73-cf3c-499d-814b-e69d1c5743a4"
      },
      "source": [
        "**Exercise**: Save a numpy array to a pickle file"
      ]
    },
    {
      "cell_type": "code",
      "source": [
        "# prompt:  Save a numpy array to a pickle file\n",
        "\n",
        "import numpy as np\n",
        "import pickle\n",
        "\n",
        "# Create a sample NumPy array\n",
        "my_array = np.array([[1, 2, 3], [4, 5, 6], [7, 8, 9]])\n",
        "\n",
        "# Save the array to a pickle file\n",
        "with open('my_array.pkl', 'wb') as f:\n",
        "  pickle.dump(my_array, f)"
      ],
      "metadata": {
        "id": "8mFEF5fbSnIC"
      },
      "id": "8mFEF5fbSnIC",
      "execution_count": null,
      "outputs": []
    },
    {
      "cell_type": "markdown",
      "id": "64a60754-8af1-4506-b4b4-f281570c7340",
      "metadata": {
        "id": "64a60754-8af1-4506-b4b4-f281570c7340"
      },
      "source": [
        "**Exercise**: Save a dataframe to a pickle file"
      ]
    },
    {
      "cell_type": "code",
      "source": [
        "# prompt: save a dataframe to a pickle file\n",
        "\n",
        "import pandas as pd\n",
        "import pickle\n",
        "\n",
        "# Create a sample DataFrame\n",
        "data = {'col1': [1, 2, 3], 'col2': [4, 5, 6]}\n",
        "df = pd.DataFrame(data)\n",
        "\n",
        "# Save the DataFrame to a pickle file\n",
        "with open('my_dataframe.pkl', 'wb') as f:\n",
        "  pickle.dump(df, f)"
      ],
      "metadata": {
        "id": "F39K9fZKTQp_"
      },
      "id": "F39K9fZKTQp_",
      "execution_count": null,
      "outputs": []
    },
    {
      "cell_type": "markdown",
      "id": "0c37dafc-d70c-4c9d-984b-2211259eb87d",
      "metadata": {
        "id": "0c37dafc-d70c-4c9d-984b-2211259eb87d"
      },
      "source": [
        "**Some other formats for storing tidy data**\n",
        "\n",
        "**Feather**\n",
        "\n",
        "- A (binary) file format for storing dataframes (tidy datat) quickly.\n",
        "- Compatible with Python, R, and Julia.\n",
        "- require package pyarrow (pip install pyarrow)\n",
        "\n",
        "**Parquet**\n",
        "\n",
        "- A (binary) file format for storing large tidy data.\n",
        "- Parquet is used by many different languages (C, Java, Python, MATLAB, Julia, etc.).\n",
        "- require package pyarrow (pip install pyarrow)"
      ]
    },
    {
      "cell_type": "markdown",
      "id": "afd0a813",
      "metadata": {
        "id": "afd0a813"
      },
      "source": [
        "### Example: JSON file"
      ]
    },
    {
      "cell_type": "markdown",
      "id": "c96d72b9",
      "metadata": {
        "id": "c96d72b9"
      },
      "source": [
        "__JSON (JavaScript Object Notation)__\n",
        "\n",
        "__Type: Text format__\n",
        "\n",
        "- Extension “.json”.\n",
        "- Human-readable.\n",
        "- Common when dealing with web applications.\n",
        "- Unlike pickle, which is Python dependent, JSON is a language-independent data format, which makes it attractive to use."
      ]
    },
    {
      "cell_type": "code",
      "execution_count": null,
      "id": "10a9dcd1",
      "metadata": {
        "id": "10a9dcd1"
      },
      "outputs": [],
      "source": [
        "import json"
      ]
    },
    {
      "cell_type": "code",
      "execution_count": null,
      "id": "f564b381",
      "metadata": {
        "id": "f564b381",
        "outputId": "18012750-343b-4234-af08-12b5be9601dc"
      },
      "outputs": [
        {
          "data": {
            "text/plain": [
              "{'school': 'UC Berkeley',\n",
              " 'address': {'city': 'Berkeley', 'state': 'California', 'postal': '94720'},\n",
              " 'list': ['student 1', 'student 2', 'student 3'],\n",
              " 'array': [1, 2, 3]}"
            ]
          },
          "execution_count": 49,
          "metadata": {},
          "output_type": "execute_result"
        }
      ],
      "source": [
        "#Write a dictionary to a JSON file\n",
        "\n",
        "school = {\n",
        "  \"school\": \"UC Berkeley\",\n",
        "  \"address\": {\n",
        "    \"city\": \"Berkeley\",\n",
        "    \"state\": \"California\",\n",
        "    \"postal\": \"94720\"\n",
        "  },\n",
        "\n",
        "  \"list\":[\n",
        "      \"student 1\",\n",
        "      \"student 2\",\n",
        "      \"student 3\"\n",
        "      ],\n",
        "\n",
        "  \"array\":[1, 2, 3]\n",
        "}\n",
        "\n",
        "school"
      ]
    },
    {
      "cell_type": "code",
      "execution_count": null,
      "id": "d53677ab-546b-41a0-83a3-103a475f6b54",
      "metadata": {
        "id": "d53677ab-546b-41a0-83a3-103a475f6b54"
      },
      "outputs": [],
      "source": [
        "json.dump(school, open('school.json', 'w'))"
      ]
    },
    {
      "cell_type": "code",
      "execution_count": null,
      "id": "1b9e41b0",
      "metadata": {
        "id": "1b9e41b0",
        "outputId": "7466b3c7-8f62-4963-9934-f1903ad67163"
      },
      "outputs": [
        {
          "data": {
            "text/plain": [
              "{'school': 'UC Berkeley',\n",
              " 'address': {'city': 'Berkeley', 'state': 'California', 'postal': '94720'},\n",
              " 'list': ['student 1', 'student 2', 'student 3'],\n",
              " 'array': [1, 2, 3]}"
            ]
          },
          "execution_count": 51,
          "metadata": {},
          "output_type": "execute_result"
        }
      ],
      "source": [
        "#Read\n",
        "\n",
        "my_school = json.load(open('./school.json', 'r'))\n",
        "my_school"
      ]
    },
    {
      "cell_type": "markdown",
      "id": "f8d9ea75-530e-46c7-acd9-d3b14b6691ef",
      "metadata": {
        "id": "f8d9ea75-530e-46c7-acd9-d3b14b6691ef"
      },
      "source": [
        "**Exercise**: Save a dataframe to a JSON file"
      ]
    },
    {
      "cell_type": "code",
      "execution_count": null,
      "id": "fb3dfcb1-3268-46de-9400-2a5ab40c8f62",
      "metadata": {
        "id": "fb3dfcb1-3268-46de-9400-2a5ab40c8f62"
      },
      "outputs": [],
      "source": []
    },
    {
      "cell_type": "markdown",
      "id": "c5fbb87e-9679-46a6-ad48-5a1bd3ad5bb7",
      "metadata": {
        "id": "c5fbb87e-9679-46a6-ad48-5a1bd3ad5bb7"
      },
      "source": [
        "### Example: HDF5 file"
      ]
    },
    {
      "cell_type": "markdown",
      "id": "631f50e0-e840-46c7-abaa-810c7471cb4e",
      "metadata": {
        "id": "631f50e0-e840-46c7-abaa-810c7471cb4e"
      },
      "source": [
        "__HDF5 (Hierarchical Data Format version 5)__\n",
        "\n",
        "__Type: Binary format__\n",
        "\n",
        "- Extension “.hdf5”.\n",
        "- Packages needed: numpy, pandas, PyTables, h5py\n",
        "- The h5py package is a Python library that provides an interface to the HDF5 format.\n",
        "- **Best use cases**: Working with big datasets in array data format and no limit on the file size.\n",
        "- Carries out a bunch of low level optimizations under the hood to make the queries faster and storage requirements smaller.\n",
        "- An HDF5 file saves two types of objects:\n",
        "   - _datasets_, which are array-like collections of data (like NumPy arrays),\n",
        "   - _groups_, which are folder-like containers that hold datasets and other groups.\n",
        "- __hierarchical__ in HDF5 refers to the fact that the data could be saved like a file system, with folder-like structures, such as folder, subfolder (in HDF5, it is called group, subgroup)."
      ]
    },
    {
      "cell_type": "code",
      "execution_count": null,
      "id": "2f262f08-46b0-4aa3-b239-29784f24df0f",
      "metadata": {
        "id": "2f262f08-46b0-4aa3-b239-29784f24df0f"
      },
      "outputs": [],
      "source": [
        "import h5py"
      ]
    },
    {
      "cell_type": "code",
      "execution_count": null,
      "id": "d71873ec-facb-41ee-9ac5-08ffe69ea33a",
      "metadata": {
        "id": "d71873ec-facb-41ee-9ac5-08ffe69ea33a",
        "outputId": "df054752-7666-4338-cbe2-bdf20ad539c7"
      },
      "outputs": [
        {
          "data": {
            "text/plain": [
              "array([[0.92979848, 0.36924849, 0.88344932, 0.09191288, 0.26448954],\n",
              "       [0.14326202, 0.46494178, 0.75886112, 0.70736961, 0.80359027],\n",
              "       [0.1747599 , 0.76875532, 0.67745347, 0.87798695, 0.27356942],\n",
              "       [0.26791045, 0.39398309, 0.32157817, 0.70101487, 0.11110061],\n",
              "       [0.72357322, 0.7665151 , 0.12226174, 0.97458899, 0.21783992],\n",
              "       [0.80732575, 0.31933164, 0.32060713, 0.84037281, 0.35492333],\n",
              "       [0.35921769, 0.52004266, 0.2898736 , 0.88644168, 0.398132  ],\n",
              "       [0.53323623, 0.34909316, 0.86829307, 0.64648968, 0.88389846],\n",
              "       [0.02158385, 0.36365644, 0.92881772, 0.36501569, 0.43142309],\n",
              "       [0.02015551, 0.06352494, 0.59986819, 0.01295296, 0.90587664]])"
            ]
          },
          "execution_count": 75,
          "metadata": {},
          "output_type": "execute_result"
        }
      ],
      "source": [
        "data = np.random.random((10,5))\n",
        "data"
      ]
    },
    {
      "cell_type": "code",
      "execution_count": null,
      "id": "b1d64d91-5064-49d8-ba5a-7119fed99b8b",
      "metadata": {
        "id": "b1d64d91-5064-49d8-ba5a-7119fed99b8b"
      },
      "outputs": [],
      "source": [
        "## Write\n",
        "\n",
        "with h5py.File('data_array.hdf5', 'w') as hf:\n",
        "    hf.create_dataset('hdf5_data',data=data)"
      ]
    },
    {
      "cell_type": "code",
      "execution_count": null,
      "id": "fae11a36-d905-4733-996c-a45ef3ca2fe7",
      "metadata": {
        "id": "fae11a36-d905-4733-996c-a45ef3ca2fe7",
        "outputId": "a6941d9c-bc21-49c4-ed9d-2e0410e18f60"
      },
      "outputs": [
        {
          "data": {
            "text/plain": [
              "array([[0.92979848, 0.36924849, 0.88344932, 0.09191288, 0.26448954],\n",
              "       [0.14326202, 0.46494178, 0.75886112, 0.70736961, 0.80359027],\n",
              "       [0.1747599 , 0.76875532, 0.67745347, 0.87798695, 0.27356942],\n",
              "       [0.26791045, 0.39398309, 0.32157817, 0.70101487, 0.11110061],\n",
              "       [0.72357322, 0.7665151 , 0.12226174, 0.97458899, 0.21783992],\n",
              "       [0.80732575, 0.31933164, 0.32060713, 0.84037281, 0.35492333],\n",
              "       [0.35921769, 0.52004266, 0.2898736 , 0.88644168, 0.398132  ],\n",
              "       [0.53323623, 0.34909316, 0.86829307, 0.64648968, 0.88389846],\n",
              "       [0.02158385, 0.36365644, 0.92881772, 0.36501569, 0.43142309],\n",
              "       [0.02015551, 0.06352494, 0.59986819, 0.01295296, 0.90587664]])"
            ]
          },
          "execution_count": 77,
          "metadata": {},
          "output_type": "execute_result"
        }
      ],
      "source": [
        "## Read\n",
        "\n",
        "with h5py.File('data_array.hdf5', 'r') as hf:\n",
        "    hdf5_read = hf['hdf5_data'][:]\n",
        "\n",
        "hdf5_read"
      ]
    },
    {
      "cell_type": "markdown",
      "id": "a464d98a-3616-4833-bed8-a244698526d6",
      "metadata": {
        "id": "a464d98a-3616-4833-bed8-a244698526d6"
      },
      "source": [
        "**Exercise**: Save a dataframe to a pickle file"
      ]
    },
    {
      "cell_type": "code",
      "execution_count": null,
      "id": "9cfc4f37-9977-4541-ba7c-59dde475f1e1",
      "metadata": {
        "id": "9cfc4f37-9977-4541-ba7c-59dde475f1e1"
      },
      "outputs": [],
      "source": []
    },
    {
      "cell_type": "code",
      "execution_count": null,
      "id": "12d43907-bb91-4eff-8125-2b13b9ff84e5",
      "metadata": {
        "id": "12d43907-bb91-4eff-8125-2b13b9ff84e5"
      },
      "outputs": [],
      "source": []
    }
  ],
  "metadata": {
    "kernelspec": {
      "display_name": "Python 3 (ipykernel)",
      "language": "python",
      "name": "python3"
    },
    "language_info": {
      "codemirror_mode": {
        "name": "ipython",
        "version": 3
      },
      "file_extension": ".py",
      "mimetype": "text/x-python",
      "name": "python",
      "nbconvert_exporter": "python",
      "pygments_lexer": "ipython3",
      "version": "3.10.6"
    },
    "colab": {
      "provenance": [],
      "include_colab_link": true
    }
  },
  "nbformat": 4,
  "nbformat_minor": 5
}
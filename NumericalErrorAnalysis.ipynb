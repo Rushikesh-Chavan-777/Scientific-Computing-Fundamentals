{
  "nbformat": 4,
  "nbformat_minor": 0,
  "metadata": {
    "colab": {
      "provenance": [],
      "include_colab_link": true
    },
    "kernelspec": {
      "name": "python3",
      "display_name": "Python 3"
    },
    "language_info": {
      "name": "python"
    }
  },
  "cells": [
    {
      "cell_type": "markdown",
      "metadata": {
        "id": "view-in-github",
        "colab_type": "text"
      },
      "source": [
        "<a href=\"https://colab.research.google.com/github/Rushikesh-Chavan-777/Scientific-Computing-Fundamentals/blob/main/NumericalErrorAnalysis.ipynb\" target=\"_parent\"><img src=\"https://colab.research.google.com/assets/colab-badge.svg\" alt=\"Open In Colab\"/></a>"
      ]
    },
    {
      "cell_type": "code",
      "execution_count": null,
      "metadata": {
        "colab": {
          "base_uri": "https://localhost:8080/"
        },
        "id": "DqBntLyM-Q6O",
        "outputId": "6a55e6c6-0247-462d-ef0b-cb7d94b9cf24"
      },
      "outputs": [
        {
          "output_type": "stream",
          "name": "stdout",
          "text": [
            "True value: 3.14159265359\n",
            "Approximation: 3.14\n",
            "Error: 0.0015926535899999372\n",
            "Relative error: 0.0005069573829630523\n",
            "\n",
            "True value: 100\n",
            "Approximation: 95\n",
            "Error: 5\n",
            "Relative error: 0.05\n"
          ]
        }
      ],
      "source": [
        "# Approximation Example\n",
        "true_value = 3.14159265359\n",
        "approximation = 3.14\n",
        "\n",
        "# Calculate the error\n",
        "error = true_value - approximation\n",
        "\n",
        "# Calculate the relative error\n",
        "relative_error = error / true_value\n",
        "\n",
        "print(f\"True value: {true_value}\")\n",
        "print(f\"Approximation: {approximation}\")\n",
        "print(f\"Error: {error}\")\n",
        "print(f\"Relative error: {relative_error}\")\n",
        "\n",
        "# Another Example\n",
        "true_value = 100\n",
        "approximation = 95\n",
        "\n",
        "error = true_value - approximation\n",
        "relative_error = error / true_value\n",
        "\n",
        "print(f\"\\nTrue value: {true_value}\")\n",
        "print(f\"Approximation: {approximation}\")\n",
        "print(f\"Error: {error}\")\n",
        "print(f\"Relative error: {relative_error}\")\n"
      ]
    },
    {
      "cell_type": "code",
      "source": [
        "import sys\n",
        "sys.float_info"
      ],
      "metadata": {
        "colab": {
          "base_uri": "https://localhost:8080/"
        },
        "id": "sEAY95EM-1JY",
        "outputId": "ced651c2-1c06-44fa-c206-ffb4fe399478"
      },
      "execution_count": null,
      "outputs": [
        {
          "output_type": "execute_result",
          "data": {
            "text/plain": [
              "sys.float_info(max=1.7976931348623157e+308, max_exp=1024, max_10_exp=308, min=2.2250738585072014e-308, min_exp=-1021, min_10_exp=-307, dig=15, mant_dig=53, epsilon=2.220446049250313e-16, radix=2, rounds=1)"
            ]
          },
          "metadata": {},
          "execution_count": 2
        }
      ]
    },
    {
      "cell_type": "code",
      "source": [
        "# Addition\n",
        "a = 1.2\n",
        "b = 3.4\n",
        "sum_ab = a + b\n",
        "print(f\"\\nSum of {a} and {b}: {sum_ab}\")\n",
        "\n",
        "# Subtraction\n",
        "difference_ab = a - b\n",
        "print(f\"Difference between {a} and {b}: {difference_ab}\")\n",
        "\n",
        "# Multiplication\n",
        "product_ab = a * b\n",
        "print(f\"Product of {a} and {b}: {product_ab}\")\n",
        "\n",
        "# Division\n",
        "if b != 0:\n",
        "  quotient_ab = a / b\n",
        "  print(f\"Quotient of {a} divided by {b}: {quotient_ab}\")\n",
        "else:\n",
        "  print(\"Cannot divide by zero\")\n",
        "\n",
        "# Exponentiation\n",
        "exponent = 2\n",
        "result_exp = a ** exponent\n",
        "print(f\"{a} raised to the power of {exponent}: {result_exp}\")\n",
        "\n",
        "\n",
        "# Some operations with large numbers to showcase limitations\n",
        "large_num1 = 1e308\n",
        "large_num2 = 1e308\n",
        "print(f\"\\nLarge number 1: {large_num1}\")\n",
        "print(f\"Large number 2: {large_num2}\")\n",
        "\n",
        "try:\n",
        "  sum_large = large_num1 + large_num2\n",
        "  print(f\"Sum of large numbers: {sum_large}\")\n",
        "except OverflowError:\n",
        "  print(\"OverflowError: Result is too large to represent\")\n",
        "\n",
        "try:\n",
        "  product_large = large_num1 * large_num2\n",
        "  print(f\"Product of large numbers: {product_large}\")\n",
        "except OverflowError:\n",
        "  print(\"OverflowError: Result is too large to represent\")\n",
        "\n"
      ],
      "metadata": {
        "colab": {
          "base_uri": "https://localhost:8080/"
        },
        "id": "_pZFRrCz_BK-",
        "outputId": "4e96d54e-bcf9-4725-af3d-3d1cdee086c6"
      },
      "execution_count": null,
      "outputs": [
        {
          "output_type": "stream",
          "name": "stdout",
          "text": [
            "\n",
            "Sum of 1.2 and 3.4: 4.6\n",
            "Difference between 1.2 and 3.4: -2.2\n",
            "Product of 1.2 and 3.4: 4.08\n",
            "Quotient of 1.2 divided by 3.4: 0.35294117647058826\n",
            "1.2 raised to the power of 2: 1.44\n",
            "\n",
            "Large number 1: 1e+308\n",
            "Large number 2: 1e+308\n",
            "Sum of large numbers: inf\n",
            "Product of large numbers: inf\n"
          ]
        }
      ]
    },
    {
      "cell_type": "code",
      "source": [
        "large_num = 1e16\n",
        "small_num = 1e-8\n",
        "result = large_num + small_num\n",
        "\n",
        "print(f\"Large number: {large_num}\")\n",
        "print(f\"Small number: {small_num}\")\n",
        "print(f\"Result: {result}\")\n",
        "\n",
        "3e16 == 3*10**16"
      ],
      "metadata": {
        "colab": {
          "base_uri": "https://localhost:8080/"
        },
        "id": "nvWyPSp9_eFq",
        "outputId": "f3cbf7d6-4dfc-4ad9-f97c-b13094d047ab"
      },
      "execution_count": null,
      "outputs": [
        {
          "output_type": "stream",
          "name": "stdout",
          "text": [
            "Large number: 1e+16\n",
            "Small number: 1e-08\n",
            "Result: 1e+16\n"
          ]
        },
        {
          "output_type": "execute_result",
          "data": {
            "text/plain": [
              "True"
            ]
          },
          "metadata": {},
          "execution_count": 5
        }
      ]
    },
    {
      "cell_type": "code",
      "source": [
        "#Repeatedly adding a small number\n",
        "sum_val = 0.0\n",
        "for i in range(100):\n",
        "    sum_val += 0.1\n",
        "\n",
        "print(f\"Expected result: 1.0\")\n",
        "print(f\"Actual result: {sum_val}\")"
      ],
      "metadata": {
        "colab": {
          "base_uri": "https://localhost:8080/"
        },
        "id": "EF4eGkBs_wcX",
        "outputId": "551e4ff1-fedf-4837-b86e-63d278bbfce0"
      },
      "execution_count": null,
      "outputs": [
        {
          "output_type": "stream",
          "name": "stdout",
          "text": [
            "Expected result: 1.0\n",
            "Actual result: 9.99999999999998\n"
          ]
        }
      ]
    },
    {
      "cell_type": "code",
      "source": [
        "a = 1.0000001\n",
        "b = 1.0000000\n",
        "result = a - b\n",
        "\n",
        "print(f\"Expected result: {0.0000001}\")\n",
        "print(f\"Actual result: {result}\")"
      ],
      "metadata": {
        "colab": {
          "base_uri": "https://localhost:8080/"
        },
        "id": "w1aMXl1W_8HD",
        "outputId": "c21b945d-a454-4e3c-8e62-6769788a9279"
      },
      "execution_count": null,
      "outputs": [
        {
          "output_type": "stream",
          "name": "stdout",
          "text": [
            "Expected result: 1e-07\n",
            "Actual result: 1.0000000005838672e-07\n"
          ]
        }
      ]
    },
    {
      "cell_type": "code",
      "source": [
        "initial_value = 1.0\n",
        "divisor = 1.0000001  # A divisor very close to 1 accumulates small round-off errors\n",
        "iterations = 1000000\n",
        "result = initial_value\n",
        "\n",
        "#round-off accumulates\n",
        "for _ in range(iterations):\n",
        "    result /= divisor\n",
        "\n",
        "# Multiply back once to see the total accumulated effect\n",
        "result *= divisor**iterations\n",
        "\n",
        "print(f\"Expected result: {initial_value}\")\n",
        "print(f'''Actual result after {iterations}\n",
        "      divisions and one multiplication: {result}''')"
      ],
      "metadata": {
        "colab": {
          "base_uri": "https://localhost:8080/"
        },
        "id": "JnvRyAeTBZfF",
        "outputId": "1582b03d-66cf-4d99-ebc4-863a605e0e8d"
      },
      "execution_count": null,
      "outputs": [
        {
          "output_type": "stream",
          "name": "stdout",
          "text": [
            "Expected result: 1.0\n",
            "Actual result after 1000000 \n",
            "      divisions and one multiplication: 1.000000000000012\n"
          ]
        }
      ]
    },
    {
      "cell_type": "code",
      "source": [
        "initial_value = 1.0\n",
        "divisor = 1.001  # A divisor very close to 1 accumulates small round-off errors\n",
        "iterations = 5000000\n",
        "result = initial_value\n",
        "\n",
        "# Repeatedly divide by the divisor\n",
        "for _ in range(iterations):\n",
        "    result /= divisor\n",
        "\n",
        "# Multiply back to undo the divisions, revealing the accumulated round-off error\n",
        "for _ in range(iterations):\n",
        "    result *= divisor\n",
        "\n",
        "print(f\"Expected result: {initial_value}\")\n",
        "print(f\"Actual result after {iterations} divisions and {iterations} multiplications: {result}\")\n",
        "\n",
        "# Calculate the absolute error\n",
        "absolute_error = abs(initial_value - result)\n",
        "\n",
        "print(f\"Absolute error: {absolute_error}\")\n"
      ],
      "metadata": {
        "colab": {
          "base_uri": "https://localhost:8080/"
        },
        "id": "FMTVGv_rBuIv",
        "outputId": "71692a22-5340-48e6-a1f2-2a75631d42ad"
      },
      "execution_count": null,
      "outputs": [
        {
          "output_type": "stream",
          "name": "stdout",
          "text": [
            "Expected result: 1.0\n",
            "Actual result after 5000000 divisions and 5000000 multiplications: 2.47e-321\n",
            "Absolute error: 1.0\n"
          ]
        }
      ]
    },
    {
      "cell_type": "code",
      "source": [
        "0.1"
      ],
      "metadata": {
        "colab": {
          "base_uri": "https://localhost:8080/"
        },
        "id": "ckEvKpSvCYv0",
        "outputId": "f4e79879-aa35-4fb5-f3a5-a6b0df224af6"
      },
      "execution_count": null,
      "outputs": [
        {
          "output_type": "execute_result",
          "data": {
            "text/plain": [
              "0.1"
            ]
          },
          "metadata": {},
          "execution_count": 24
        }
      ]
    },
    {
      "cell_type": "code",
      "source": [
        "import decimal\n",
        "\n",
        "# Set precision for decimal to a high value\n",
        "decimal.getcontext().prec = 50\n",
        "\n",
        "# Create a Decimal object for 0.1 to print its full precision\n",
        "full_precision_value = decimal.Decimal(0.1)\n",
        "\n",
        "print(full_precision_value)"
      ],
      "metadata": {
        "colab": {
          "base_uri": "https://localhost:8080/"
        },
        "id": "odXEAvI-DTrc",
        "outputId": "94cb1c79-a6ec-44f1-85e8-6919ea706490"
      },
      "execution_count": null,
      "outputs": [
        {
          "output_type": "stream",
          "name": "stdout",
          "text": [
            "0.1000000000000000055511151231257827021181583404541015625\n"
          ]
        }
      ]
    },
    {
      "cell_type": "code",
      "source": [
        "0.1"
      ],
      "metadata": {
        "colab": {
          "base_uri": "https://localhost:8080/"
        },
        "id": "yG4J6nMC6PTj",
        "outputId": "f86d652d-90e5-45b4-d11d-ac420735204f"
      },
      "execution_count": null,
      "outputs": [
        {
          "output_type": "execute_result",
          "data": {
            "text/plain": [
              "0.1"
            ]
          },
          "metadata": {},
          "execution_count": 20
        }
      ]
    },
    {
      "cell_type": "code",
      "source": [
        "import math\n",
        "format(math.pi, '.17g')  # give 17 significant digits\n"
      ],
      "metadata": {
        "colab": {
          "base_uri": "https://localhost:8080/",
          "height": 36
        },
        "id": "__HB6mUIDiiV",
        "outputId": "e3eb4fd6-c231-48cb-bd0b-cbcc89daa490"
      },
      "execution_count": null,
      "outputs": [
        {
          "output_type": "execute_result",
          "data": {
            "text/plain": [
              "'3.1415926535897931'"
            ],
            "application/vnd.google.colaboratory.intrinsic+json": {
              "type": "string"
            }
          },
          "metadata": {},
          "execution_count": 28
        }
      ]
    },
    {
      "cell_type": "code",
      "source": [
        "format(0.1, '.50g')\n"
      ],
      "metadata": {
        "colab": {
          "base_uri": "https://localhost:8080/",
          "height": 36
        },
        "id": "DKjdCBDWD0VW",
        "outputId": "fb5a4992-ae36-43e9-c64e-7babcc855ff6"
      },
      "execution_count": null,
      "outputs": [
        {
          "output_type": "execute_result",
          "data": {
            "text/plain": [
              "'0.1000000000000000055511151231257827021181583404541'"
            ],
            "application/vnd.google.colaboratory.intrinsic+json": {
              "type": "string"
            }
          },
          "metadata": {},
          "execution_count": 23
        }
      ]
    },
    {
      "cell_type": "code",
      "source": [
        "0.1 + 0.1 + 0.1 == 0.3"
      ],
      "metadata": {
        "colab": {
          "base_uri": "https://localhost:8080/"
        },
        "id": "AYGlL8wlEAjI",
        "outputId": "e9b8e7a3-ebee-4fd3-eba8-1dabc0aa3b84"
      },
      "execution_count": null,
      "outputs": [
        {
          "output_type": "execute_result",
          "data": {
            "text/plain": [
              "False"
            ]
          },
          "metadata": {},
          "execution_count": 24
        }
      ]
    },
    {
      "cell_type": "code",
      "source": [
        "round(0.1, 1) + round(0.1, 1) + round(0.1, 1) == round(0.3, 1)"
      ],
      "metadata": {
        "colab": {
          "base_uri": "https://localhost:8080/"
        },
        "id": "Yc5J66ijENyD",
        "outputId": "071a921d-2992-4280-9b7a-f9ff41d34d5c"
      },
      "execution_count": null,
      "outputs": [
        {
          "output_type": "execute_result",
          "data": {
            "text/plain": [
              "False"
            ]
          },
          "metadata": {},
          "execution_count": 25
        }
      ]
    },
    {
      "cell_type": "code",
      "source": [
        "import math\n",
        "math.isclose(0.1 + 0.1 + 0.1, 0.3)"
      ],
      "metadata": {
        "colab": {
          "base_uri": "https://localhost:8080/"
        },
        "id": "r1KOkU_aEX9s",
        "outputId": "b52de1a9-3479-417c-e5b8-8214b072666b"
      },
      "execution_count": null,
      "outputs": [
        {
          "output_type": "execute_result",
          "data": {
            "text/plain": [
              "True"
            ]
          },
          "metadata": {},
          "execution_count": 26
        }
      ]
    },
    {
      "cell_type": "code",
      "source": [
        "round(math.pi, ndigits=2) == round(22 / 7, ndigits=2)"
      ],
      "metadata": {
        "colab": {
          "base_uri": "https://localhost:8080/"
        },
        "id": "Rn5nuVGNEfbU",
        "outputId": "ec60599c-d988-4ce8-b95c-7e9b20fe0910"
      },
      "execution_count": null,
      "outputs": [
        {
          "output_type": "execute_result",
          "data": {
            "text/plain": [
              "True"
            ]
          },
          "metadata": {},
          "execution_count": 27
        }
      ]
    },
    {
      "cell_type": "markdown",
      "source": [
        "Reference: https://jvns.ca/blog/2023/01/13/examples-of-floating-point-problems/"
      ],
      "metadata": {
        "id": "9ZZDXZrtKmXY"
      }
    },
    {
      "cell_type": "code",
      "source": [
        "# One person said that they were working on an odometer\n",
        "# that was continuously adding small amounts to a 32-bit float\n",
        "# to measure distance traveled, and things went very wrong.\n",
        "# we are adding numbers to the odometer 1cm at a time.\n",
        "# What does it look like after 10,000 kilometers?\n",
        "\n",
        "\n",
        "\n",
        "# C code\n",
        "# #include <stdio.h>\n",
        "# int main() {\n",
        "#     float meters = 0;\n",
        "#     int iterations = 100000000;\n",
        "#     for (int i = 0; i < iterations; i++) {\n",
        "#         meters += 0.01;\n",
        "#     }\n",
        "#     printf(\"Expected: %f km\\n\", 0.01 * iterations / 1000 );\n",
        "#     printf(\"Got: %f km \\n\", meters / 1000);\n",
        "# }\n",
        "import numpy as np\n",
        "\n",
        "# Initialize variables with 32-bit float precision\n",
        "meters = np.float32(0.0)\n",
        "iterations = 100000000\n",
        "\n",
        "# Perform the loop with 32-bit precision\n",
        "for i in range(iterations):\n",
        "  meters += np.float32(0.01)\n",
        "\n",
        "# Calculate the expected result and actual result\n",
        "expected_km = np.float32(0.01 * iterations / 1000)\n",
        "actual_km = meters / 1000\n",
        "\n",
        "# Print the results using 32-bit float precision\n",
        "print(f\"Expected: {expected_km:.6f} km\")\n",
        "print(f\"Got: {actual_km:.6f} km\")"
      ],
      "metadata": {
        "colab": {
          "base_uri": "https://localhost:8080/"
        },
        "id": "rgWgtNONEmXf",
        "outputId": "d6cfc270-f6be-4e4b-97c8-9e38ce948fb7"
      },
      "execution_count": null,
      "outputs": [
        {
          "output_type": "stream",
          "name": "stdout",
          "text": [
            "Expected: 1000.000000 km\n",
            "Got: 262.144000 km\n"
          ]
        }
      ]
    },
    {
      "cell_type": "code",
      "source": [
        "import numpy as np\n",
        "\n",
        "# Define the number of iterations and step size\n",
        "iterations = 100000004\n",
        "step = np.float32(0.01)\n",
        "\n",
        "# Use NumPy to calculate the sum using vectorized operations\n",
        "meters = np.float32(step) * iterations  # Multiply instead of looping\n",
        "\n",
        "# Calculate the expected result and actual result\n",
        "expected_km = np.float32(0.01 * iterations / 1000)\n",
        "actual_km = meters / 1000\n",
        "\n",
        "# Print the results using 32-bit float precision\n",
        "print(f\"Expected: {expected_km:.6f} km\")\n",
        "print(f\"Got: {actual_km:.6f} km\")"
      ],
      "metadata": {
        "colab": {
          "base_uri": "https://localhost:8080/"
        },
        "id": "1BQ8fLH8GKcy",
        "outputId": "37ad7d84-baae-4a84-f115-a55f691df3d3"
      },
      "execution_count": null,
      "outputs": [
        {
          "output_type": "stream",
          "name": "stdout",
          "text": [
            "Expected: 1000.000061 km\n",
            "Got: 1000.000018 km\n"
          ]
        }
      ]
    },
    {
      "cell_type": "markdown",
      "source": [
        "The improvement in accuracy in the vectorized code comes from the way floating-point arithmetic is handled in NumPy when performing operations all at once, compared to accumulating small numbers iteratively in a loop.\n",
        "Key Reasons for Accuracy Improvement:\n",
        "\n",
        "    Single Operation vs. Iterative Accumulation:\n",
        "        In the original loop-based code, you're adding 0.01 repeatedly in small steps. Each addition introduces a small round-off error due to the limitations of floating-point precision (in this case, 32-bit precision).\n",
        "        With each addition, this tiny error accumulates over time, leading to a noticeable error after many iterations. This is particularly true when dealing with many iterations like 100 million.\n",
        "\n",
        "    In contrast, in the vectorized code, multiplication is done in a single step: step * iterations. Since there is only one multiplication instead of millions of individual additions, there are fewer opportunities for round-off error to accumulate.\n",
        "\n",
        "    Reduced Floating-Point Rounding:\n",
        "        When you repeatedly add small numbers (like 0.01), the rounding errors that occur due to floating-point representation build up. For example, 0.01 in single-precision (32-bit) floating-point is represented as 0.009999999776482582.\n",
        "        Adding this number repeatedly in a loop leads to cumulative error.\n",
        "        In vectorized operations, NumPy performs the multiplication in a single step, which reduces the cumulative round-off error compared to repeated addition.\n",
        "\n",
        "    Optimized Use of CPU and Memory:\n",
        "        NumPy is highly optimized for performance, and it uses lower-level code (often written in C) to carry out the computations efficiently.\n",
        "        The vectorized approach allows NumPy to compute the final result in a more accurate way because it handles the entire operation as a single, large arithmetic operation rather than breaking it down into millions of small, error-prone steps.\n",
        "\n",
        "Why the Loop-Based Approach Has Lower Accuracy:\n",
        "\n",
        "In the loop-based approach, the errors are introduced due to:\n",
        "\n",
        "    Repeated rounding after every addition.\n",
        "    Small numerical inaccuracies caused by limited floating-point precision, which accumulate over many iterations.\n",
        "\n",
        "In the vectorized approach, fewer floating-point operations are involved, and so fewer opportunities arise for rounding errors to accumulate, which results in better accuracy."
      ],
      "metadata": {
        "id": "hHh-AnHAIb04"
      }
    },
    {
      "cell_type": "code",
      "source": [
        "def calculate_bad_variance(nums):\n",
        "    sum_of_squares = 0\n",
        "    sum_of_nums = 0\n",
        "    N = len(nums)\n",
        "    for num in nums:\n",
        "        sum_of_squares += num**2\n",
        "        sum_of_nums += num\n",
        "    mean = sum_of_nums / N\n",
        "    variance = (sum_of_squares - N * mean**2) / N\n",
        "\n",
        "    print(f\"Real variance: {np.var(nums)}\")\n",
        "    print(f\"Bad variance: {variance}\")"
      ],
      "metadata": {
        "id": "4OOV2GBBHOcl"
      },
      "execution_count": null,
      "outputs": []
    },
    {
      "cell_type": "code",
      "source": [
        "calculate_bad_variance([2, 7, 3, 12, 9])"
      ],
      "metadata": {
        "colab": {
          "base_uri": "https://localhost:8080/"
        },
        "id": "uSfExDWTIzZO",
        "outputId": "65030131-6fc5-4250-b8be-520d4c6d1b94"
      },
      "execution_count": null,
      "outputs": [
        {
          "output_type": "stream",
          "name": "stdout",
          "text": [
            "Real variance: 13.84\n",
            "Bad variance: 13.840000000000003\n"
          ]
        }
      ]
    },
    {
      "cell_type": "code",
      "source": [
        "calculate_bad_variance(np.random.uniform(100000000, 100000000.06, 100000))"
      ],
      "metadata": {
        "colab": {
          "base_uri": "https://localhost:8080/"
        },
        "id": "IbRcab8yI37j",
        "outputId": "0b255dfa-5978-4653-9af0-898b7a9ef082"
      },
      "execution_count": null,
      "outputs": [
        {
          "output_type": "stream",
          "name": "stdout",
          "text": [
            "Real variance: 0.00029928597256324233\n",
            "Bad variance: 205.78304\n"
          ]
        }
      ]
    },
    {
      "cell_type": "markdown",
      "source": [
        "## Example of catastrophic cancellation\n",
        "\n",
        "The sum_of_squares number gets extremely big (about 10^21 or 2^69), and at that point, the gap between consecutive floating point numbers is also very big\n",
        "-- it is 2**46. So we just lose all precision in our calculations.\n",
        "\n",
        "The term for this problem is “catastrophic cancellation” – we are subtracting two very large floating point numbers, which are both going to be pretty far from the correct value of the calculation, so the result of the subtraction will also be wrong."
      ],
      "metadata": {
        "id": "k16cwiHXKEBs"
      }
    },
    {
      "cell_type": "markdown",
      "source": [
        "## Year 2038 problem\n",
        "The Year 2038 problem (also known as the Unix Y2K problem) arises because many systems store time as the number of seconds since January 1, 1970 (the Unix epoch) using a 32-bit signed integer. This data type can represent times up to 03:14:07 UTC on January 19, 2038, after which the value overflows and rolls over to a negative number,\n",
        "potentially causing software that relies on this system to fail."
      ],
      "metadata": {
        "id": "qiKyAZeyLV3o"
      }
    },
    {
      "cell_type": "code",
      "source": [
        "import time\n",
        "\n",
        "# Simulate 32-bit signed integer overflow by wrapping around\n",
        "def simulate_32bit_time(seconds_since_epoch):\n",
        "    # Force the value into the 32-bit signed integer range (-2^31 to 2^31 - 1)\n",
        "    max_32bit = 2**31\n",
        "    if seconds_since_epoch >= max_32bit:\n",
        "        seconds_since_epoch -= 2 * max_32bit  # Simulate the overflow (wrap around)\n",
        "    elif seconds_since_epoch < -max_32bit:\n",
        "        seconds_since_epoch += 2 * max_32bit  # Handle negative wrap-around\n",
        "    return seconds_since_epoch\n",
        "\n",
        "# Define the max time for 32-bit signed integer (Year 2038 problem)\n",
        "max_time_32bit = 2**31 - 1  # Maximum positive value for 32-bit signed integer\n",
        "\n",
        "# Print the correct date for the max time\n",
        "print(\"Max 32-bit time (in seconds since epoch):\", max_time_32bit)\n",
        "print(\"Human-readable max time:\", time.strftime('%Y-%m-%d %H:%M:%S', time.gmtime(max_time_32bit)))\n",
        "\n",
        "# Simulate the overflow by adding 1 second to max_time_32bit\n",
        "overflow_time_32bit = simulate_32bit_time(max_time_32bit + 1)\n",
        "\n",
        "# Attempt to convert the overflowed time to a human-readable format\n",
        "try:\n",
        "    print(\"Simulated overflow time (in seconds):\", overflow_time_32bit)\n",
        "    print(\"Human-readable time after overflow:\", time.strftime('%Y-%m-%d %H:%M:%S', time.gmtime(overflow_time_32bit)))\n",
        "except OverflowError as e:\n",
        "    print(\"OverflowError encountered:\", e)"
      ],
      "metadata": {
        "colab": {
          "base_uri": "https://localhost:8080/"
        },
        "id": "mySJD0A0MVqt",
        "outputId": "30e0cd39-806e-4d24-8514-686a59543506"
      },
      "execution_count": null,
      "outputs": [
        {
          "output_type": "stream",
          "name": "stdout",
          "text": [
            "Max 32-bit time (in seconds since epoch): 2147483647\n",
            "Human-readable max time: 2038-01-19 03:14:07\n",
            "Simulated overflow time (in seconds): -2147483648\n",
            "Human-readable time after overflow: 1901-12-13 20:45:52\n"
          ]
        }
      ]
    },
    {
      "cell_type": "code",
      "source": [
        "import time\n",
        "import datetime\n",
        "\n",
        "# 32-bit signed integer max value for time_t (seconds since Unix epoch)\n",
        "max_time = 2**31 - 1  # This represents January 19, 2038, 03:14:07 UTC\n",
        "\n",
        "# Convert this max time value to a human-readable date\n",
        "print(\"Max time (in seconds since epoch):\", max_time)\n",
        "print(\"Human-readable max time:\", time.strftime('%Y-%m-%d %H:%M:%S', time.gmtime(max_time)))\n",
        "\n",
        "# Attempt to add 1 second to cause the overflow\n",
        "overflow_time = max_time + 1\n",
        "\n",
        "try:\n",
        "    # This will demonstrate what happens when the 2038 problem occurs\n",
        "    print(\"Time after overflow (in seconds since epoch):\", overflow_time)\n",
        "    print(\"Human-readable time after overflow:\", time.strftime('%Y-%m-%d %H:%M:%S', time.gmtime(overflow_time)))\n",
        "except OverflowError as e:\n",
        "    print(\"OverflowError encountered:\", e)\n",
        "\n",
        "# Demonstrate with datetime module\n",
        "try:\n",
        "    future_date = datetime.datetime.utcfromtimestamp(overflow_time)\n",
        "    print(\"Date after overflow (using datetime):\", future_date)\n",
        "except OverflowError as e:\n",
        "    print(\"OverflowError encountered in datetime module:\", e)\n"
      ],
      "metadata": {
        "colab": {
          "base_uri": "https://localhost:8080/"
        },
        "id": "Q86bIEwHJBK2",
        "outputId": "6609429f-b8b0-4d6a-d1ff-3000002c5d79"
      },
      "execution_count": null,
      "outputs": [
        {
          "output_type": "stream",
          "name": "stdout",
          "text": [
            "Max time (in seconds since epoch): 2147483647\n",
            "Human-readable max time: 2038-01-19 03:14:07\n",
            "Time after overflow (in seconds since epoch): 2147483648\n",
            "Human-readable time after overflow: 2038-01-19 03:14:08\n",
            "Date after overflow (using datetime): 2038-01-19 03:14:08\n"
          ]
        }
      ]
    },
    {
      "cell_type": "code",
      "source": [
        "counter = 0\n",
        "a = 1000\n",
        "while a != 0:\n",
        "    a -= 0.001\n",
        "    counter+=1\n",
        "print(counter)"
      ],
      "metadata": {
        "id": "8DQplCJPLmC3"
      },
      "execution_count": null,
      "outputs": []
    },
    {
      "cell_type": "code",
      "source": [
        "a = 1000\n",
        "counter = 0\n",
        "while a > 0:\n",
        "    a -= 0.001\n",
        "    counter +=1\n",
        "print(counter)\n"
      ],
      "metadata": {
        "id": "-uZr_XhJNJ4A"
      },
      "execution_count": null,
      "outputs": []
    },
    {
      "cell_type": "code",
      "source": [
        "x = 3.14159\n",
        "\n",
        "x.as_integer_ratio()"
      ],
      "metadata": {
        "colab": {
          "base_uri": "https://localhost:8080/"
        },
        "id": "xSZdkfecNSDq",
        "outputId": "17402cba-a506-4d04-f0b0-c00c60f2d9d0"
      },
      "execution_count": null,
      "outputs": [
        {
          "output_type": "execute_result",
          "data": {
            "text/plain": [
              "(3537115888337719, 1125899906842624)"
            ]
          },
          "metadata": {},
          "execution_count": 59
        }
      ]
    },
    {
      "cell_type": "code",
      "source": [
        "x == 3537115888337719 / 1125899906842624"
      ],
      "metadata": {
        "colab": {
          "base_uri": "https://localhost:8080/"
        },
        "id": "DJnfJyHeOB2g",
        "outputId": "0086d8a0-4099-4a62-81b1-f74af7a51f7a"
      },
      "execution_count": null,
      "outputs": [
        {
          "output_type": "execute_result",
          "data": {
            "text/plain": [
              "True"
            ]
          },
          "metadata": {},
          "execution_count": 60
        }
      ]
    },
    {
      "cell_type": "code",
      "source": [
        "x.hex()"
      ],
      "metadata": {
        "colab": {
          "base_uri": "https://localhost:8080/",
          "height": 36
        },
        "id": "D4Xl8kTdOKJD",
        "outputId": "c7554ab1-3d9c-489b-f8e7-37a125321d79"
      },
      "execution_count": null,
      "outputs": [
        {
          "output_type": "execute_result",
          "data": {
            "text/plain": [
              "'0x1.921f9f01b866ep+1'"
            ],
            "application/vnd.google.colaboratory.intrinsic+json": {
              "type": "string"
            }
          },
          "metadata": {},
          "execution_count": 61
        }
      ]
    },
    {
      "cell_type": "code",
      "source": [
        "x == float.fromhex('0x1.921f9f01b866ep+1')"
      ],
      "metadata": {
        "colab": {
          "base_uri": "https://localhost:8080/"
        },
        "id": "kown7KtSOOyj",
        "outputId": "02eb389e-3274-43f5-bf97-dcfdabe008f6"
      },
      "execution_count": null,
      "outputs": [
        {
          "output_type": "execute_result",
          "data": {
            "text/plain": [
              "True"
            ]
          },
          "metadata": {},
          "execution_count": 62
        }
      ]
    },
    {
      "cell_type": "code",
      "source": [
        "0.1 + 0.1 + 0.1 + 0.1 + 0.1 + 0.1 + 0.1 + 0.1 + 0.1 + 0.1 == 1.0"
      ],
      "metadata": {
        "colab": {
          "base_uri": "https://localhost:8080/"
        },
        "id": "m52HoXBoOUu0",
        "outputId": "7789a6e6-26aa-4cbf-856c-b90ce4ca4da2"
      },
      "execution_count": null,
      "outputs": [
        {
          "output_type": "execute_result",
          "data": {
            "text/plain": [
              "False"
            ]
          },
          "metadata": {},
          "execution_count": 65
        }
      ]
    },
    {
      "cell_type": "code",
      "source": [
        "sum([0.1] * 10) == 1.0"
      ],
      "metadata": {
        "colab": {
          "base_uri": "https://localhost:8080/"
        },
        "id": "eaX5SVo2Ofqr",
        "outputId": "394a6971-262f-4d13-89d9-f07b1ff22a0a"
      },
      "execution_count": null,
      "outputs": [
        {
          "output_type": "execute_result",
          "data": {
            "text/plain": [
              "False"
            ]
          },
          "metadata": {},
          "execution_count": 84
        }
      ]
    },
    {
      "cell_type": "code",
      "source": [
        "arr = [-0.10430216751806065, -266310978.67179024, 143401161448607.16,\n",
        "-143401161400469.7, 266262841.31058735, -0.003244936839808227]\n",
        "print(arr)"
      ],
      "metadata": {
        "colab": {
          "base_uri": "https://localhost:8080/"
        },
        "id": "Ts6Jom0aOjdQ",
        "outputId": "20dfe052-9193-4e8e-bc9f-5234c38594da"
      },
      "execution_count": null,
      "outputs": [
        {
          "output_type": "stream",
          "name": "stdout",
          "text": [
            "[-0.10430216751806065, -266310978.67179024, 143401161448607.16, -143401161400469.7, 266262841.31058735, -0.003244936839808227]\n"
          ]
        }
      ]
    },
    {
      "cell_type": "code",
      "source": [
        "len(arr)\n",
        "s2 = float(sum(map(Fraction, arr)))\n",
        "s1 = sum(arr)\n",
        "print(f'the normal sum is {s1}')\n",
        "print(f'using fractions module and using Fraction representation we get {s2}')"
      ],
      "metadata": {
        "colab": {
          "base_uri": "https://localhost:8080/"
        },
        "id": "dmHcSlGxO87H",
        "outputId": "00a160b0-283d-429a-f3e7-feec54a1f70d"
      },
      "execution_count": null,
      "outputs": [
        {
          "output_type": "stream",
          "name": "stdout",
          "text": [
            "the normal sum is -0.0051575902860057365\n",
            "using fractions module and using Fraction representation we get 8.042173697819788e-13\n"
          ]
        }
      ]
    },
    {
      "cell_type": "code",
      "source": [
        "from fractions import Fraction\n",
        "\n",
        "arr1 = [0.1, 0.2, 0.3]\n",
        "result = float(sum(map(Fraction, arr1)))\n",
        "print(result)"
      ],
      "metadata": {
        "colab": {
          "base_uri": "https://localhost:8080/"
        },
        "id": "lmJ81A3TO_p2",
        "outputId": "4b48f6cd-dea5-4c24-8bee-5094148af82e"
      },
      "execution_count": null,
      "outputs": [
        {
          "output_type": "stream",
          "name": "stdout",
          "text": [
            "0.6\n"
          ]
        }
      ]
    },
    {
      "cell_type": "code",
      "source": [
        "sum(arr)"
      ],
      "metadata": {
        "colab": {
          "base_uri": "https://localhost:8080/"
        },
        "id": "KZipIrCkPO8h",
        "outputId": "461d273b-e597-4a1a-d8fd-2d9d51330024"
      },
      "execution_count": null,
      "outputs": [
        {
          "output_type": "execute_result",
          "data": {
            "text/plain": [
              "-0.0051575902860057365"
            ]
          },
          "metadata": {},
          "execution_count": 83
        }
      ]
    },
    {
      "cell_type": "code",
      "source": [
        "math.fsum(arr)"
      ],
      "metadata": {
        "colab": {
          "base_uri": "https://localhost:8080/"
        },
        "id": "gSqPX8T2Poha",
        "outputId": "4444b7bf-1c5b-422c-cd06-d4c317a3fdcf"
      },
      "execution_count": null,
      "outputs": [
        {
          "output_type": "execute_result",
          "data": {
            "text/plain": [
              "8.042173697819788e-13"
            ]
          },
          "metadata": {},
          "execution_count": 81
        }
      ]
    },
    {
      "cell_type": "code",
      "source": [
        "total = 0.0\n",
        "for x in arr:\n",
        "  total += x        # Multiple roundings in standard precision\n",
        "total"
      ],
      "metadata": {
        "colab": {
          "base_uri": "https://localhost:8080/"
        },
        "id": "5Fwd5RatP93h",
        "outputId": "a91b0884-1ca4-4114-fc09-466088dee02c"
      },
      "execution_count": null,
      "outputs": [
        {
          "output_type": "execute_result",
          "data": {
            "text/plain": [
              "-0.0051575902860057365"
            ]
          },
          "metadata": {},
          "execution_count": 82
        }
      ]
    },
    {
      "cell_type": "code",
      "source": [
        "import math\n",
        "\n",
        "# Function to approximate e^x using Taylor series expansion\n",
        "def exp_approx(x, terms):\n",
        "    approx = 0.0\n",
        "    factorial = 1\n",
        "    for n in range(terms):\n",
        "        if n > 0:\n",
        "            factorial *= n  # Calculate factorial\n",
        "        approx += (x ** n) / factorial\n",
        "    return approx\n",
        "\n",
        "# Function to demonstrate truncation error\n",
        "def demonstrate_truncation_error(x, terms):\n",
        "    actual_value = math.exp(x)  # Exact value of e^x\n",
        "    approximation = exp_approx(x, terms)\n",
        "\n",
        "    # Truncation error = actual value - approximation\n",
        "    truncation_error = abs(actual_value - approximation)\n",
        "\n",
        "    print(f\"Actual value of e^{x}: {actual_value}\")\n",
        "    print(f\"Approximation using {terms} terms: {approximation}\")\n",
        "    print(f\"Truncation error: {truncation_error}\")\n",
        "\n",
        "# Example: Approximate e^1 using different numbers of terms in the Taylor series\n",
        "x = 1  # e^1 = 2.71828...\n",
        "terms = 5  # Number of terms in the Taylor series\n",
        "\n",
        "demonstrate_truncation_error(x, terms)"
      ],
      "metadata": {
        "colab": {
          "base_uri": "https://localhost:8080/"
        },
        "id": "9TrQraDpQEZM",
        "outputId": "0959988b-5db4-4a7e-8533-14c76c4529b6"
      },
      "execution_count": null,
      "outputs": [
        {
          "output_type": "stream",
          "name": "stdout",
          "text": [
            "Actual value of e^1: 2.718281828459045\n",
            "Approximation using 5 terms: 2.708333333333333\n",
            "Truncation error: 0.009948495125712054\n"
          ]
        }
      ]
    },
    {
      "cell_type": "code",
      "source": [
        "x = -1  # We are calculating e^-1 (1/e)\n",
        "\n",
        "# Use 5 terms\n",
        "terms = 5\n",
        "print(f\"\\nApproximating e^{x} using {terms} terms:\")\n",
        "demonstrate_truncation_error(x, terms)\n",
        "\n",
        "# Use 10 terms\n",
        "terms = 10\n",
        "print(f\"\\nApproximating e^{x} using {terms} terms:\")\n",
        "demonstrate_truncation_error(x, terms)\n",
        "\n",
        "# Use 15 terms\n",
        "terms = 15\n",
        "print(f\"\\nApproximating e^{x} using {terms} terms:\")\n",
        "demonstrate_truncation_error(x, terms)"
      ],
      "metadata": {
        "colab": {
          "base_uri": "https://localhost:8080/"
        },
        "id": "qRK2ASymRPkv",
        "outputId": "f3afc16b-71c0-4e9b-ad50-cee5047f5dfa"
      },
      "execution_count": null,
      "outputs": [
        {
          "output_type": "stream",
          "name": "stdout",
          "text": [
            "\n",
            "Approximating e^-1 using 5 terms:\n",
            "Actual value of e^-1: 0.36787944117144233\n",
            "Approximation using 5 terms: 0.37500000000000006\n",
            "Truncation error: 0.0071205588285577215\n",
            "\n",
            "Approximating e^-1 using 10 terms:\n",
            "Actual value of e^-1: 0.36787944117144233\n",
            "Approximation using 10 terms: 0.3678791887125221\n",
            "Truncation error: 2.5245892021352745e-07\n",
            "\n",
            "Approximating e^-1 using 15 terms:\n",
            "Actual value of e^-1: 0.36787944117144233\n",
            "Approximation using 15 terms: 0.36787944117216204\n",
            "Truncation error: 7.197020757132577e-13\n"
          ]
        }
      ]
    },
    {
      "cell_type": "markdown",
      "source": [
        "##  Approximating a Derivative Using Finite Differences\n",
        "\n",
        "Write a Python code to approximate the derivative of $$f(x)=\\sin(x)$$ at $$x=\\frac{\\pi}{4}$$ and compute the truncation error for different values of h."
      ],
      "metadata": {
        "id": "j93ElnX6SRY5"
      }
    },
    {
      "cell_type": "code",
      "source": [
        "import numpy as np\n",
        "\n",
        "# Define the function and its exact derivative\n",
        "def f(x):\n",
        "    return np.sin(x)\n",
        "\n",
        "def exact_derivative(x):\n",
        "    return np.cos(x)\n",
        "\n",
        "# Finite difference approximation of the derivative\n",
        "def forward_difference(f, x, h):\n",
        "    return (f(x + h) - f(x)) / h\n",
        "\n",
        "# Main calculation\n",
        "x0 = np.pi / 4  # Point at which we approximate the derivative\n",
        "h_values = [1e-1, 1e-2, 1e-3, 1e-4]  # Different step sizes\n",
        "exact_value = exact_derivative(x0)\n",
        "\n",
        "# Calculate the truncation error for each h\n",
        "errors = []\n",
        "for h in h_values:\n",
        "    approx_value = forward_difference(f, x0, h)\n",
        "    error = np.abs(approx_value - exact_value)\n",
        "    errors.append(error)\n",
        "    print(f\"h = {h:.4e}, Approximate Derivative = {approx_value:.6f}, Error = {error:.6e}\")"
      ],
      "metadata": {
        "colab": {
          "base_uri": "https://localhost:8080/"
        },
        "id": "j9lZYS-RSjQv",
        "outputId": "d9937a81-a57a-4633-b872-2aa161bef64c"
      },
      "execution_count": null,
      "outputs": [
        {
          "output_type": "stream",
          "name": "stdout",
          "text": [
            "h = 1.0000e-01, Approximate Derivative = 0.670603, Error = 3.650381e-02\n",
            "h = 1.0000e-02, Approximate Derivative = 0.703559, Error = 3.547289e-03\n",
            "h = 1.0000e-03, Approximate Derivative = 0.706753, Error = 3.536712e-04\n",
            "h = 1.0000e-04, Approximate Derivative = 0.707071, Error = 3.535652e-05\n"
          ]
        }
      ]
    },
    {
      "cell_type": "markdown",
      "source": [
        "## Approximating an Integral Using the Trapezoidal Rule\n",
        "\n",
        "The integral of a function \\f(x)\\ over the interval \\[a, b]\\ can be approximated using the trapezoidal rule:\n",
        "\n",
        "$$\n",
        "\\int_a^b f(x) \\, dx \\approx \\frac{b - a}{2} \\left[ f(a) + f(b) \\right]\n",
        "$$\n",
        "\n",
        "The truncation error for the trapezoidal rule is proportional to $$(b - a)^3$$.\n"
      ],
      "metadata": {
        "id": "b6q85OnqS2-M"
      }
    },
    {
      "cell_type": "code",
      "source": [
        "import numpy as np\n",
        "\n",
        "# Define the function and its exact integral\n",
        "def f(x):\n",
        "    return np.exp(x)\n",
        "\n",
        "def exact_integral(a, b):\n",
        "    return np.exp(b) - np.exp(a)\n",
        "\n",
        "# Trapezoidal rule for approximating the integral\n",
        "def trapezoidal_rule(f, a, b):\n",
        "    return (b - a) / 2 * (f(a) + f(b))\n",
        "\n",
        "# Main calculation\n",
        "a, b = 0, 1  # Integration bounds\n",
        "approx_value = trapezoidal_rule(f, a, b)\n",
        "exact_value = exact_integral(a, b)\n",
        "\n",
        "# Calculate the truncation error\n",
        "error = np.abs(approx_value - exact_value)\n",
        "print(f\"Approximate Integral = {approx_value:.6f}, Exact Integral = {exact_value:.6f}, Error = {error:.6e}\")"
      ],
      "metadata": {
        "colab": {
          "base_uri": "https://localhost:8080/"
        },
        "id": "nAEyBXYzSnYa",
        "outputId": "e64cc07d-3c70-4c4d-8f8e-e6b898b06753"
      },
      "execution_count": null,
      "outputs": [
        {
          "output_type": "stream",
          "name": "stdout",
          "text": [
            "Approximate Integral = 1.859141, Exact Integral = 1.718282, Error = 1.408591e-01\n"
          ]
        }
      ]
    },
    {
      "cell_type": "code",
      "source": [
        "import math\n",
        "\n",
        "def quadratic_roots(a, b, c):\n",
        "    # Compute the discriminant\n",
        "    discriminant = b**2 - 4*a*c\n",
        "\n",
        "    # Check for complex roots\n",
        "    if discriminant < 0:\n",
        "        return \"Complex roots\"\n",
        "\n",
        "    # Standard formula\n",
        "    sqrt_discriminant = math.sqrt(discriminant)\n",
        "    print(f'sqrt_discriminant={sqrt_discriminant}')\n",
        "    # Root 1 using the standard quadratic formula\n",
        "    root1_standard = (-b + sqrt_discriminant) / (2 * a)\n",
        "\n",
        "    # Root 2 using the standard quadratic formula\n",
        "    root2_standard = (-b - sqrt_discriminant) / (2 * a)\n",
        "\n",
        "    # Use the alternative formula to avoid catastrophic cancellation for root 1\n",
        "    if b > 0:\n",
        "        root1_alternative = (2 * c) / (-b - sqrt_discriminant)\n",
        "    else:\n",
        "        root1_alternative = (2 * c) / (-b + sqrt_discriminant)\n",
        "\n",
        "    return root1_standard, root2_standard, root1_alternative\n",
        "\n",
        "# Test the function with large b values\n",
        "a = 1\n",
        "b = -1e6  # Large value of b\n",
        "c = 1\n",
        "\n",
        "root1_standard, root2_standard, root1_alternative = quadratic_roots(a, b, c)\n",
        "\n",
        "print(f\"Root 1 (Standard Formula): {root1_standard}\")\n",
        "print(f\"Root 2 (Standard Formula): {root2_standard}\")\n",
        "print(f\"Root 1 (Alternative Formula): {root1_alternative}\")"
      ],
      "metadata": {
        "colab": {
          "base_uri": "https://localhost:8080/"
        },
        "id": "-sz845zLU-1x",
        "outputId": "83459899-05fc-4d15-e41b-e79b6e7fb7c1"
      },
      "execution_count": null,
      "outputs": [
        {
          "output_type": "stream",
          "name": "stdout",
          "text": [
            "sqrt_discriminant=999999.999998\n",
            "Root 1 (Standard Formula): 999999.999999\n",
            "Root 2 (Standard Formula): 1.00000761449337e-06\n",
            "Root 1 (Alternative Formula): 1.000000000001e-06\n"
          ]
        }
      ]
    },
    {
      "cell_type": "code",
      "source": [
        "(1e6 - math.sqrt(1e12 - 4))/2"
      ],
      "metadata": {
        "colab": {
          "base_uri": "https://localhost:8080/"
        },
        "id": "vtV__SPFWlbQ",
        "outputId": "386bcaee-f9c9-4530-fcf1-c74ea42b3c79"
      },
      "execution_count": null,
      "outputs": [
        {
          "output_type": "execute_result",
          "data": {
            "text/plain": [
              "1.00000761449337e-06"
            ]
          },
          "metadata": {},
          "execution_count": 94
        }
      ]
    },
    {
      "cell_type": "code",
      "source": [],
      "metadata": {
        "id": "d9Pb_VbWWt4N"
      },
      "execution_count": null,
      "outputs": []
    }
  ]
}